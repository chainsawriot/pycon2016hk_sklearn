{
 "cells": [
  {
   "cell_type": "markdown",
   "metadata": {},
   "source": [
    "# ipython demo"
   ]
  },
  {
   "cell_type": "markdown",
   "metadata": {},
   "source": [
    "## Markdown cell C-m m\n",
    "\n",
    "List\n",
    "\n",
    "* Hello\n",
    "    + World!\n",
    "\n",
    "> Block quote\n",
    "\n",
    "Link\n",
    "\n",
    "* [Google](http://www.google.com)\n",
    "\n",
    "Code block\n",
    "\n",
    "`\n",
    "def hello():\n",
    "    return [for i in range(0, 200)]`\n",
    "\n",
    "Latex\n",
    "\n",
    "$$H' = -\\sum_{i=1}^R p_i \\ln p_i$$"
   ]
  },
  {
   "cell_type": "markdown",
   "metadata": {},
   "source": [
    "tab completion and tab help (docstring). Shift + Enter to run"
   ]
  },
  {
   "cell_type": "code",
   "execution_count": 2,
   "metadata": {
    "collapsed": false
   },
   "outputs": [
    {
     "data": {
      "text/plain": [
       "[0, 1, 2, 3, 4, 5, 6, 7, 8, 9]"
      ]
     },
     "execution_count": 2,
     "metadata": {},
     "output_type": "execute_result"
    }
   ],
   "source": [
    "[i for i in range(10)]"
   ]
  },
  {
   "cell_type": "markdown",
   "metadata": {},
   "source": [
    "[Magic functions](http://ipython.org/ipython-doc/dev/interactive/tutorial.html) %lsmagic"
   ]
  },
  {
   "cell_type": "code",
   "execution_count": 2,
   "metadata": {
    "collapsed": false
   },
   "outputs": [
    {
     "name": "stdout",
     "output_type": "stream",
     "text": [
      "Available line magics:\n",
      "%alias  %alias_magic  %autocall  %automagic  %bookmark  %cd  %clear  %colors  %config  %connect_info  %debug  %dhist  %dirs  %doctest_mode  %ed  %edit  %env  %gui  %hist  %history  %install_default_config  %install_ext  %install_profiles  %killbgscripts  %less  %load  %load_ext  %loadpy  %logoff  %logon  %logstart  %logstate  %logstop  %lsmagic  %macro  %magic  %man  %more  %notebook  %page  %pastebin  %pdb  %pdef  %pdoc  %pfile  %pinfo  %pinfo2  %popd  %pprint  %precision  %profile  %prun  %psearch  %psource  %pushd  %pwd  %pycat  %pylab  %qtconsole  %quickref  %recall  %rehashx  %reload_ext  %rep  %rerun  %reset  %reset_selective  %run  %save  %sc  %store  %sx  %system  %tb  %time  %timeit  %unalias  %unload_ext  %who  %who_ls  %whos  %xdel  %xmode\n",
      "\n",
      "Available cell magics:\n",
      "%%!  %%bash  %%capture  %%file  %%perl  %%prun  %%python3  %%script  %%sh  %%sx  %%system  %%timeit\n",
      "\n",
      "Automagic is ON, % prefix IS NOT needed for line magics.\n"
     ]
    }
   ],
   "source": [
    "%lsmagic"
   ]
  },
  {
   "cell_type": "code",
   "execution_count": 3,
   "metadata": {
    "collapsed": false
   },
   "outputs": [],
   "source": [
    "%timeit?"
   ]
  },
  {
   "cell_type": "markdown",
   "metadata": {},
   "source": [
    "Line magic: single %"
   ]
  },
  {
   "cell_type": "code",
   "execution_count": 4,
   "metadata": {
    "collapsed": false
   },
   "outputs": [
    {
     "name": "stdout",
     "output_type": "stream",
     "text": [
      "1000 loops, best of 3: 609 us per loop\n"
     ]
    }
   ],
   "source": [
    "%timeit [x for x in range(0,5000)]"
   ]
  },
  {
   "cell_type": "markdown",
   "metadata": {},
   "source": [
    "Cell magic: double %\n",
    "\n",
    "Welcome to the HK _P_ UG."
   ]
  },
  {
   "cell_type": "code",
   "execution_count": 5,
   "metadata": {
    "collapsed": false
   },
   "outputs": [
    {
     "name": "stdout",
     "output_type": "stream",
     "text": [
      "Just another Perl hacker,"
     ]
    }
   ],
   "source": [
    "%%perl\n",
    "''=~('(?{'.('-)@.)@_*([]@!@/)(@)@-@),@(@@+@)'\n",
    "^'][)@]`}`]()`@.@]@%[`}%[@`@!#@%[').',\"})')"
   ]
  },
  {
   "cell_type": "markdown",
   "metadata": {},
   "source": [
    "System shell command with bang!"
   ]
  },
  {
   "cell_type": "code",
   "execution_count": 6,
   "metadata": {
    "collapsed": false
   },
   "outputs": [
    {
     "name": "stdout",
     "output_type": "stream",
     "text": [
      "    August 2013       \r\n",
      "Su Mo Tu We Th Fr Sa  \r\n",
      "             1 \u001b[7m 2\u001b[m  3  \r\n",
      " 4  5  6  7  8  9 10  \r\n",
      "11 12 13 14 15 16 17  \r\n",
      "18 19 20 21 22 23 24  \r\n",
      "25 26 27 28 29 30 31  \r\n",
      "                      \r\n"
     ]
    }
   ],
   "source": [
    "! cal"
   ]
  },
  {
   "cell_type": "markdown",
   "metadata": {},
   "source": [
    "Us"
   ]
  }
 ],
 "metadata": {
  "kernelspec": {
   "display_name": "Python 2",
   "language": "python",
   "name": "python2"
  },
  "language_info": {
   "codemirror_mode": {
    "name": "ipython",
    "version": 2
   },
   "file_extension": ".py",
   "mimetype": "text/x-python",
   "name": "python",
   "nbconvert_exporter": "python",
   "pygments_lexer": "ipython2",
   "version": "2.7.11"
  }
 },
 "nbformat": 4,
 "nbformat_minor": 0
}
